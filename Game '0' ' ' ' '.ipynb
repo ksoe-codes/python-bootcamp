{
 "cells": [
  {
   "cell_type": "code",
   "execution_count": 1,
   "id": "2f66b474",
   "metadata": {},
   "outputs": [],
   "source": [
    "from random import shuffle"
   ]
  },
  {
   "cell_type": "code",
   "execution_count": 4,
   "id": "40f8c7c5",
   "metadata": {},
   "outputs": [],
   "source": [
    "def playerguess():\n",
    "    guess = ''\n",
    "    while guess not in ['0','1','2']:\n",
    "        guess = input(\"Enter a number among 0 1 2: \" )\n",
    "        \n",
    "    return int(guess)"
   ]
  },
  {
   "cell_type": "code",
   "execution_count": 10,
   "id": "90a8be48",
   "metadata": {},
   "outputs": [],
   "source": [
    "def checkguess(l,guess):\n",
    "    if l[guess] == '0':\n",
    "        print(\"Correct!\")\n",
    "        print(\"List was: \", l)\n",
    "    else:\n",
    "        print(\"Wrong!\")\n",
    "        print(\"List was: \", l)"
   ]
  },
  {
   "cell_type": "code",
   "execution_count": 11,
   "id": "46ffde19",
   "metadata": {},
   "outputs": [],
   "source": [
    "def shuffle_l(l):\n",
    "    shuffle(l)\n",
    "    return l"
   ]
  },
  {
   "cell_type": "code",
   "execution_count": 14,
   "id": "6d32d84d",
   "metadata": {},
   "outputs": [
    {
     "name": "stdout",
     "output_type": "stream",
     "text": [
      "Enter a number among 0 1 2: 0\n",
      "Wrong!\n",
      "List was:  [' ', ' ', '0']\n"
     ]
    }
   ],
   "source": [
    "l = ['0' , ' ' , ' ']\n",
    "\n",
    "mix_l = shuffle_l(l)\n",
    "\n",
    "guess = playerguess()\n",
    "\n",
    "checkguess(mix_l,guess)"
   ]
  },
  {
   "cell_type": "code",
   "execution_count": null,
   "id": "c764088c",
   "metadata": {},
   "outputs": [],
   "source": []
  }
 ],
 "metadata": {
  "kernelspec": {
   "display_name": "Python 3 (ipykernel)",
   "language": "python",
   "name": "python3"
  },
  "language_info": {
   "codemirror_mode": {
    "name": "ipython",
    "version": 3
   },
   "file_extension": ".py",
   "mimetype": "text/x-python",
   "name": "python",
   "nbconvert_exporter": "python",
   "pygments_lexer": "ipython3",
   "version": "3.9.13"
  }
 },
 "nbformat": 4,
 "nbformat_minor": 5
}
